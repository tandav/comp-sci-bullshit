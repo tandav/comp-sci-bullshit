{
 "cells": [
  {
   "cell_type": "code",
   "execution_count": 1,
   "metadata": {},
   "outputs": [],
   "source": [
    "from secrets import token_urlsafe\n",
    "import requests"
   ]
  },
  {
   "cell_type": "code",
   "execution_count": 5,
   "metadata": {},
   "outputs": [],
   "source": [
    "harvested = []"
   ]
  },
  {
   "cell_type": "code",
   "execution_count": null,
   "metadata": {},
   "outputs": [],
   "source": [
    "for i in range(1000):\n",
    "    print(i + 1, end='\\t') # progressbar\n",
    "    token = token_urlsafe(4)   # 6-char string. Example: 'BCJrDQ'\n",
    "    try:\n",
    "        r = requests.get(f'https://goo.gl/{token}', timeout=0.8)\n",
    "        if r.ok:\n",
    "            print(f'WIN: {token}', end='\\t')\n",
    "            harvested.append((r.url.split('/')[2] + '-' + token, r.text))\n",
    "        else:\n",
    "            print('FAIL', end='\\t')\n",
    "    except:\n",
    "        print('EXCEPTION', end='\\t')\n",
    "    print('END')\n",
    "\n",
    "print(f'Harvested: {len(harvested)}')"
   ]
  },
  {
   "cell_type": "markdown",
   "metadata": {},
   "source": [
    "# Save urls to html files\n",
    "format:\n",
    "```{domain}-{goo.gl hash}.html```\n",
    "\n",
    "Example: \n",
    "```amazon.com-hQhccg.html```"
   ]
  },
  {
   "cell_type": "code",
   "execution_count": 33,
   "metadata": {},
   "outputs": [],
   "source": [
    "# <domain> + <goo.gl hash>.html Example: amazon.com-hQhccg.html\n",
    "for h in harvested:\n",
    "    with open(f'harvested/{h[0]}.html', 'w') as f:\n",
    "        f.write(h[1])"
   ]
  }
 ],
 "metadata": {
  "kernelspec": {
   "display_name": "Python 3",
   "language": "python",
   "name": "python3"
  },
  "language_info": {
   "codemirror_mode": {
    "name": "ipython",
    "version": 3
   },
   "file_extension": ".py",
   "mimetype": "text/x-python",
   "name": "python",
   "nbconvert_exporter": "python",
   "pygments_lexer": "ipython3",
   "version": "3.6.4"
  }
 },
 "nbformat": 4,
 "nbformat_minor": 2
}
